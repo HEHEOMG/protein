{
 "cells": [
  {
   "cell_type": "code",
   "execution_count": 1,
   "metadata": {},
   "outputs": [],
   "source": [
    "import pandas as pd\n",
    "import os\n",
    "import numpy as np\n",
    "import csv"
   ]
  },
  {
   "cell_type": "code",
   "execution_count": 2,
   "metadata": {},
   "outputs": [],
   "source": [
    "path_name = 'Thermophilic'"
   ]
  },
  {
   "cell_type": "code",
   "execution_count": 3,
   "metadata": {},
   "outputs": [],
   "source": [
    "# path\n",
    "path_dir = os.path.dirname(os.path.dirname(os.getcwd()))\n",
    "\n",
    "path_object_dir = path_dir + '\\\\new_data\\\\' + path_name+'\\\\merge_gap'\n",
    "\n",
    "path_new_positive = path_dir + '\\\\new_data\\\\'+ path_name + r\"\\data\\positive.csv\"\n",
    "path_new_negative = path_dir + '\\\\new_data\\\\'+ path_name + r'\\data\\negitive.csv'\n",
    "path_merge = path_dir + '\\\\new_data\\\\' + path_name+r'\\merge_feature.csv'\n",
    "\n",
    "files = os.listdir(path_object_dir)"
   ]
  },
  {
   "cell_type": "code",
   "execution_count": 4,
   "metadata": {},
   "outputs": [],
   "source": [
    "def get_entropy(column,positive_num, negitive_num):\n",
    "    perct = (column[0] * positive_num + column[1]* negitive_num)/(positive_num+negitive_num)\n",
    "    if perct ==1 or perct ==0:\n",
    "        ent_org = 0\n",
    "    else:\n",
    "        ent_org = -perct*np.log2(perct)-(1-perct)*np.log2((1-perct))\n",
    "    if column[0] ==1 or column[0] ==0:\n",
    "        ent_later1 = 0\n",
    "    else:\n",
    "        ent_later1 = -column[0]*np.log2(column[0])-(1-column[0])*np.log2((1-column[0])) \n",
    "    if column[1] ==1 or column[1] ==0:\n",
    "        ent_later2 = 0\n",
    "    else:\n",
    "        ent_later2 = -column[1]*np.log2(column[1])-(1-column[1])*np.log2((1-column[1]))\n",
    "    ent_later = ent_later1 + ent_later2\n",
    "    return (ent_later-ent_org)"
   ]
  },
  {
   "cell_type": "code",
   "execution_count": 5,
   "metadata": {},
   "outputs": [],
   "source": [
    "# 将正类和负类数据抽取成list\n",
    "def extract_data(path):\n",
    "    lines_list =[]\n",
    "    with open(path, 'r') as f:\n",
    "        for line in f.readlines():\n",
    "            line = line.replace('\\n','')\n",
    "            lines_list.append(line)\n",
    "    return lines_list"
   ]
  },
  {
   "cell_type": "code",
   "execution_count": 6,
   "metadata": {},
   "outputs": [],
   "source": [
    "# 抽取正负样本数据\n",
    "positive_data = extract_data(path_new_positive)\n",
    "negative_data = extract_data(path_new_negative)\n",
    "\n",
    "pos_num = len(positive_data)\n",
    "neg_num = len(negative_data)"
   ]
  },
  {
   "cell_type": "code",
   "execution_count": 7,
   "metadata": {},
   "outputs": [],
   "source": [
    "ent = pd.Series()\n",
    "for i in range(len(files)):\n",
    "    pa = path_object_dir + '\\\\' +  files[i]\n",
    "    data = pd.read_csv(pa)\n",
    "    temp_ent =data.apply(get_entropy,args = (pos_num,neg_num))\n",
    "    ent = pd.concat([ent, temp_ent])"
   ]
  },
  {
   "cell_type": "code",
   "execution_count": 8,
   "metadata": {},
   "outputs": [],
   "source": [
    "# 按熵的降序排列\n",
    "ent.sort_values(ascending = False,inplace = True)"
   ]
  },
  {
   "cell_type": "code",
   "execution_count": 9,
   "metadata": {},
   "outputs": [
    {
     "data": {
      "text/plain": [
       "gl***********************g      0.875767\n",
       "gg*****************l            0.875716\n",
       "gg*********************l        0.873596\n",
       "gl*********************g        0.870009\n",
       "gg*******************l          0.869753\n",
       "gg******l                       0.869427\n",
       "gg**********************l       0.868827\n",
       "lg************g                 0.868103\n",
       "lg**********************g       0.867825\n",
       "gg***l                          0.867424\n",
       "gg*************l                0.866416\n",
       "l*l                             0.866344\n",
       "gl*************g                0.866310\n",
       "cc*g                            0.864628\n",
       "lg****g                         0.864419\n",
       "lg***********************g      0.864024\n",
       "lg*********************g        0.864002\n",
       "cg****c                         0.863889\n",
       "g*cc                            0.862656\n",
       "gl*******g                      0.862440\n",
       "glg                             0.861605\n",
       "gl**************g               0.860751\n",
       "lg*************************g    0.860394\n",
       "lg*****************g            0.860318\n",
       "gg******************l           0.860232\n",
       "gl*****************g            0.860102\n",
       "gl******g                       0.858986\n",
       "gc***c                          0.858797\n",
       "gg**********l                   0.858696\n",
       "hc**********g                   0.857958\n",
       "                                  ...   \n",
       "h*c                             0.244807\n",
       "ga                              0.235474\n",
       "hc                              0.233110\n",
       "a*g                             0.231000\n",
       "lg                              0.229623\n",
       "g*a                             0.224789\n",
       "ch                              0.224589\n",
       "ag                              0.208639\n",
       "c*h                             0.192073\n",
       "k                               0.178830\n",
       "i                               0.171447\n",
       "d                               0.125217\n",
       "gc                              0.107626\n",
       "h*g                             0.097822\n",
       "g*c                             0.096645\n",
       "hg                              0.096213\n",
       "c*g                             0.093534\n",
       "gh                              0.093263\n",
       "b                               0.093123\n",
       "g*h                             0.089668\n",
       "cg                              0.089512\n",
       "g*g                             0.085637\n",
       "f                               0.069106\n",
       "l                               0.047920\n",
       "gg                              0.041833\n",
       "j                               0.026375\n",
       "a                               0.006832\n",
       "h                               0.000000\n",
       "g                               0.000000\n",
       "c                               0.000000\n",
       "Length: 391, dtype: float64"
      ]
     },
     "execution_count": 9,
     "metadata": {},
     "output_type": "execute_result"
    }
   ],
   "source": [
    "ent"
   ]
  },
  {
   "cell_type": "code",
   "execution_count": 10,
   "metadata": {},
   "outputs": [
    {
     "data": {
      "text/plain": [
       "Index(['gl***********************g', 'gg*****************l',\n",
       "       'gg*********************l', 'gl*********************g',\n",
       "       'gg*******************l', 'gg******l', 'gg**********************l',\n",
       "       'lg************g', 'lg**********************g', 'gg***l',\n",
       "       ...\n",
       "       'gg****l', 'gl*****g', 'gg***a', 'hc***g', 'ag***g', 'fc', 'h*cg',\n",
       "       'g*ch', 'la', 'lg*******g'],\n",
       "      dtype='object', length=101)"
      ]
     },
     "execution_count": 10,
     "metadata": {},
     "output_type": "execute_result"
    }
   ],
   "source": [
    "# 选取熵大于0.8\n",
    "ent[ent>0.8].index"
   ]
  },
  {
   "cell_type": "code",
   "execution_count": 11,
   "metadata": {},
   "outputs": [],
   "source": [
    "# 保存数据\n",
    "def save_data(data, path):\n",
    "    with open(path, 'w', newline='') as f:\n",
    "        writer = csv.writer(f)\n",
    "        writer.writerows([data])\n",
    "    print('Finish writer!!!')"
   ]
  },
  {
   "cell_type": "code",
   "execution_count": 12,
   "metadata": {},
   "outputs": [
    {
     "name": "stdout",
     "output_type": "stream",
     "text": [
      "Finish writer!!!\n"
     ]
    }
   ],
   "source": [
    "save_data(ent[ent>0.8].index, path_merge)"
   ]
  },
  {
   "cell_type": "code",
   "execution_count": null,
   "metadata": {},
   "outputs": [],
   "source": []
  }
 ],
 "metadata": {
  "kernelspec": {
   "display_name": "Python 3",
   "language": "python",
   "name": "python3"
  },
  "language_info": {
   "codemirror_mode": {
    "name": "ipython",
    "version": 3
   },
   "file_extension": ".py",
   "mimetype": "text/x-python",
   "name": "python",
   "nbconvert_exporter": "python",
   "pygments_lexer": "ipython3",
   "version": "3.7.0"
  }
 },
 "nbformat": 4,
 "nbformat_minor": 2
}
