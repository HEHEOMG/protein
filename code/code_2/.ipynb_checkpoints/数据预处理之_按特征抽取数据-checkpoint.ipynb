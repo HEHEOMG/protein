{
 "cells": [
  {
   "cell_type": "code",
   "execution_count": 1,
   "metadata": {},
   "outputs": [],
   "source": [
    "import pandas as pd\n",
    "import os\n",
    "import numpy as np\n",
    "import csv"
   ]
  },
  {
   "cell_type": "code",
   "execution_count": 2,
   "metadata": {},
   "outputs": [],
   "source": [
    "path_name = 'Bacteriophage'"
   ]
  },
  {
   "cell_type": "code",
   "execution_count": 3,
   "metadata": {},
   "outputs": [],
   "source": [
    "# path\n",
    "path_dir = os.path.dirname(os.path.dirname(os.getcwd()))\n",
    "\n",
    "path_object_dir = path_dir + '\\\\new_data\\\\' + path_name+'\\\\merge_gap'\n",
    "\n",
    "path_new_positive = path_dir + '\\\\new_data\\\\'+ path_name + r\"\\data\\positive.csv\"\n",
    "path_new_negative = path_dir + '\\\\new_data\\\\'+ path_name + r'\\data\\negitive.csv'\n",
    "path_merge = path_dir + '\\\\new_data\\\\' + path_name+r'\\merge_feature.csv'\n",
    "\n",
    "files = os.listdir(path_object_dir)"
   ]
  },
  {
   "cell_type": "code",
   "execution_count": 4,
   "metadata": {},
   "outputs": [],
   "source": [
    "def get_entropy(column,positive_num, negitive_num):\n",
    "    perct = (column[0] * positive_num + column[1]* negitive_num)/(positive_num+negitive_num)\n",
    "    if perct ==1 or perct ==0:\n",
    "        ent_org = 0\n",
    "    else:\n",
    "        ent_org = -perct*np.log2(perct)-(1-perct)*np.log2((1-perct))\n",
    "    if column[0] ==1 or column[0] ==0:\n",
    "        ent_later1 = 0\n",
    "    else:\n",
    "        ent_later1 = -column[0]*np.log2(column[0])-(1-column[0])*np.log2((1-column[0])) \n",
    "    if column[1] ==1 or column[1] ==0:\n",
    "        ent_later2 = 0\n",
    "    else:\n",
    "        ent_later2 = -column[1]*np.log2(column[1])-(1-column[1])*np.log2((1-column[1]))\n",
    "    ent_later = ent_later1 + ent_later2\n",
    "    return (ent_later-ent_org)"
   ]
  },
  {
   "cell_type": "code",
   "execution_count": 5,
   "metadata": {},
   "outputs": [],
   "source": [
    "# 将正类和负类数据抽取成list\n",
    "def extract_data(path):\n",
    "    lines_list =[]\n",
    "    with open(path, 'r') as f:\n",
    "        for line in f.readlines():\n",
    "            line = line.replace('\\n','')\n",
    "            lines_list.append(line)\n",
    "    return lines_list"
   ]
  },
  {
   "cell_type": "code",
   "execution_count": 6,
   "metadata": {},
   "outputs": [],
   "source": [
    "# 抽取正负样本数据\n",
    "positive_data = extract_data(path_new_positive)\n",
    "negative_data = extract_data(path_new_negative)\n",
    "\n",
    "pos_num = len(positive_data)\n",
    "neg_num = len(negative_data)"
   ]
  },
  {
   "cell_type": "code",
   "execution_count": 7,
   "metadata": {},
   "outputs": [],
   "source": [
    "ent = pd.Series()\n",
    "for i in range(len(files)):\n",
    "    pa = path_object_dir + '\\\\' +  files[i]\n",
    "    data = pd.read_csv(pa)\n",
    "    temp_ent =data.apply(get_entropy,args = (pos_num,neg_num))\n",
    "    ent = pd.concat([ent, temp_ent])"
   ]
  },
  {
   "cell_type": "code",
   "execution_count": 8,
   "metadata": {},
   "outputs": [],
   "source": [
    "# 按熵的降序排列\n",
    "ent.sort_values(ascending = False,inplace = True)"
   ]
  },
  {
   "cell_type": "code",
   "execution_count": 9,
   "metadata": {},
   "outputs": [
    {
     "data": {
      "text/plain": [
       "Index(['h****g***************h', 'h****h*******g', 'g*****h******h',\n",
       "       'h********g****h', 'g******h*****h', 'h****g*****************h',\n",
       "       'h*********hg', 'h*******h****g', 'h*g**********h', 'g***h*********h',\n",
       "       ...\n",
       "       'h***g*********h', 'g*****d', 'g*****g***h', 'gh*******h',\n",
       "       'h***g***************g', 'g***g*******************h', 'hg**h', 'j*a',\n",
       "       'g****h*****************g', 'g**h***********************g'],\n",
       "      dtype='object', length=309)"
      ]
     },
     "execution_count": 9,
     "metadata": {},
     "output_type": "execute_result"
    }
   ],
   "source": [
    "# 选取熵大于0.8\n",
    "ent[ent>0.8].index"
   ]
  },
  {
   "cell_type": "code",
   "execution_count": 10,
   "metadata": {},
   "outputs": [],
   "source": [
    "# 保存数据\n",
    "def save_data(data, path):\n",
    "    with open(path, 'w', newline='') as f:\n",
    "        writer = csv.writer(f)\n",
    "        writer.writerows([data])\n",
    "    print('Finish writer!!!')"
   ]
  },
  {
   "cell_type": "code",
   "execution_count": 11,
   "metadata": {},
   "outputs": [
    {
     "name": "stdout",
     "output_type": "stream",
     "text": [
      "Finish writer!!!\n"
     ]
    }
   ],
   "source": [
    "save_data(ent[ent>0.8].index, path_merge)"
   ]
  },
  {
   "cell_type": "code",
   "execution_count": null,
   "metadata": {},
   "outputs": [],
   "source": []
  }
 ],
 "metadata": {
  "kernelspec": {
   "display_name": "Python 3",
   "language": "python",
   "name": "python3"
  },
  "language_info": {
   "codemirror_mode": {
    "name": "ipython",
    "version": 3
   },
   "file_extension": ".py",
   "mimetype": "text/x-python",
   "name": "python",
   "nbconvert_exporter": "python",
   "pygments_lexer": "ipython3",
   "version": "3.7.0"
  }
 },
 "nbformat": 4,
 "nbformat_minor": 2
}
