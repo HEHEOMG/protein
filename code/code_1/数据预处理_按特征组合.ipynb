{
 "cells": [
  {
   "cell_type": "code",
   "execution_count": 1,
   "metadata": {},
   "outputs": [],
   "source": [
    "# 定义蛋白质特征\n",
    "# 大小\n",
    "size = {'C': 1, 'S': 1, 'A': 1, 'G': 1, \n",
    "        'N': 2, 'T': 2, 'D': 2, 'P': 2, \n",
    "        'M': 3, 'L': 3, 'I': 3, 'H': 3, 'Q': 3, 'E': 3, 'V': 3, \n",
    "        'W': 4, 'R': 4, 'Y': 4, 'F': 4, 'K': 4}\n",
    "\n",
    "# 极性，以及极性中的酸碱度\n",
    "polarity = {'C': 2, 'S': 2, 'A': 1, 'G': 1, \n",
    "        'N': 2, 'T': 2, 'D': 4, 'P': 1, \n",
    "        'M': 1, 'L': 1, 'I': 1, 'H': 3, 'Q': 2, 'E': 4, 'V': 1, \n",
    "        'W': 1, 'R': 3, 'Y': 2, 'F': 1, 'K': 3}\n",
    "\n",
    "# 结合基团不同的氨基酸分类：脂肪族4，芳香族1，杂环族2，杂环亚3\n",
    "binding_group = {'C': 4, 'S': 4, 'A': 4, 'G': 4, \n",
    "        'N': 4, 'T': 4, 'D': 4, 'P': 3, \n",
    "        'M': 4, 'L': 4, 'I': 4, 'H': 2, 'Q': 4, 'E': 4, 'V': 4, \n",
    "        'W': 2, 'R': 4, 'Y': 1, 'F': 1, 'K': 4}\n",
    "\n",
    "# 组合的特征\n",
    "merge = {}\n",
    "\n",
    "merge_list = [size, polarity, binding_group]"
   ]
  },
  {
   "cell_type": "code",
   "execution_count": 2,
   "metadata": {},
   "outputs": [],
   "source": [
    "# 合并氨基酸的各个特征\n",
    "for cha in merge_list:\n",
    "    for i in cha.keys():\n",
    "        if i not in merge.keys():\n",
    "            merge[i] = str(cha[i])\n",
    "        else:\n",
    "            merge[i] += str(cha[i])"
   ]
  },
  {
   "cell_type": "code",
   "execution_count": 3,
   "metadata": {},
   "outputs": [
    {
     "data": {
      "text/plain": [
       "{'C': '124',\n",
       " 'S': '124',\n",
       " 'A': '114',\n",
       " 'G': '114',\n",
       " 'N': '224',\n",
       " 'T': '224',\n",
       " 'D': '244',\n",
       " 'P': '213',\n",
       " 'M': '314',\n",
       " 'L': '314',\n",
       " 'I': '314',\n",
       " 'H': '332',\n",
       " 'Q': '324',\n",
       " 'E': '344',\n",
       " 'V': '314',\n",
       " 'W': '412',\n",
       " 'R': '434',\n",
       " 'Y': '421',\n",
       " 'F': '411',\n",
       " 'K': '434'}"
      ]
     },
     "execution_count": 3,
     "metadata": {},
     "output_type": "execute_result"
    }
   ],
   "source": [
    "merge"
   ]
  },
  {
   "cell_type": "code",
   "execution_count": 4,
   "metadata": {},
   "outputs": [],
   "source": [
    "# 将合并的特征代表的数字做成一个字典用来映射新的特征\n",
    "values = set(merge.values())\n",
    "temp = ['a', 'b', 'c', 'd', 'e', 'f', 'g', 'h', 'i', 'j', 'k',\n",
    "        'l', 'm', 'n', 'o', 'p', 'q', 'r', 's', 't', 'u', 'v', 'w', 'x', 'y', 'z']\n",
    "length = len(values)\n",
    "values_dict = dict(zip(values, temp[:length]))"
   ]
  },
  {
   "cell_type": "code",
   "execution_count": 5,
   "metadata": {},
   "outputs": [
    {
     "data": {
      "text/plain": [
       "{'224': 'a',\n",
       " '213': 'b',\n",
       " '434': 'c',\n",
       " '411': 'd',\n",
       " '412': 'e',\n",
       " '244': 'f',\n",
       " '314': 'g',\n",
       " '114': 'h',\n",
       " '421': 'i',\n",
       " '124': 'j',\n",
       " '324': 'k',\n",
       " '344': 'l',\n",
       " '332': 'm'}"
      ]
     },
     "execution_count": 5,
     "metadata": {},
     "output_type": "execute_result"
    }
   ],
   "source": [
    "values_dict"
   ]
  },
  {
   "cell_type": "code",
   "execution_count": 6,
   "metadata": {},
   "outputs": [],
   "source": [
    "new_dict = {}\n",
    "\n",
    "for key, value in merge.items():\n",
    "    new_dict[key] = values_dict[value]"
   ]
  },
  {
   "cell_type": "code",
   "execution_count": 7,
   "metadata": {},
   "outputs": [
    {
     "name": "stdout",
     "output_type": "stream",
     "text": [
      "{'C': 'j', 'S': 'j', 'A': 'h', 'G': 'h', 'N': 'a', 'T': 'a', 'D': 'f', 'P': 'b', 'M': 'g', 'L': 'g', 'I': 'g', 'H': 'm', 'Q': 'k', 'E': 'l', 'V': 'g', 'W': 'e', 'R': 'c', 'Y': 'i', 'F': 'd', 'K': 'c'}\n"
     ]
    }
   ],
   "source": [
    "# 新的特征\n",
    "print(new_dict)"
   ]
  },
  {
   "cell_type": "markdown",
   "metadata": {},
   "source": [
    ">>> [chr(i) for i in range(97,123)]\n",
    "['a', 'b', 'c', 'd', 'e', 'f', 'g', 'h', 'i', 'j', 'k', 'l', 'm', 'n', 'o', 'p', 'q', 'r', 's', 't', 'u', 'v', 'w', 'x', 'y', 'z']\n"
   ]
  }
 ],
 "metadata": {
  "kernelspec": {
   "display_name": "Python 3",
   "language": "python",
   "name": "python3"
  },
  "language_info": {
   "codemirror_mode": {
    "name": "ipython",
    "version": 3
   },
   "file_extension": ".py",
   "mimetype": "text/x-python",
   "name": "python",
   "nbconvert_exporter": "python",
   "pygments_lexer": "ipython3",
   "version": "3.7.0"
  }
 },
 "nbformat": 4,
 "nbformat_minor": 2
}
