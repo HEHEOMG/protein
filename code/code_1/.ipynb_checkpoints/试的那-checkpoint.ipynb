{
 "cells": [
  {
   "cell_type": "markdown",
   "metadata": {},
   "source": [
    "## 本内容是对kmer的内容进行深入的特征工程"
   ]
  },
  {
   "cell_type": "code",
   "execution_count": 1,
   "metadata": {},
   "outputs": [],
   "source": [
    "# 导包\n",
    "import pandas as pd\n",
    "import numpy as np\n",
    "import matplotlib.pyplot as plt\n",
    "plt.style.use('fivethirtyeight')\n",
    "import seaborn as sns\n",
    "\n",
    "import warnings\n",
    "warnings.filterwarnings('ignore')\n",
    "\n",
    "%matplotlib inline\n",
    "\n",
    "import os\n"
   ]
  },
  {
   "cell_type": "code",
   "execution_count": 2,
   "metadata": {},
   "outputs": [],
   "source": [
    "# path\n",
    "df_row_data_dir_path = os.path.abspath(os.path.dirname(os.path.dirname(os.getcwd())))\n",
    "\n",
    "df_row_data_path1 = r'\\new_data\\kmer\\train_1_meter.csv'\n",
    "df_row_data_path2 = r'\\new_data\\kmer\\train_2_meter.csv'\n",
    "df_row_data_path3 = r'\\new_data\\kmer\\train_3_meter.csv'\n",
    "df_row_data_path4 = r'\\new_data\\kmer\\train_4_meter.csv'\n"
   ]
  },
  {
   "cell_type": "code",
   "execution_count": 3,
   "metadata": {},
   "outputs": [],
   "source": [
    "# 数据载入\n",
    "df_data1 = pd.read_csv(df_row_data_dir_path+df_row_data_path1)\n",
    "df_data2 = pd.read_csv(df_row_data_dir_path+df_row_data_path2).drop('label',axis = 1)\n",
    "df_data3 = pd.read_csv(df_row_data_dir_path+df_row_data_path3).drop('label',axis = 1)\n",
    "df_data4 = pd.read_csv(df_row_data_dir_path+df_row_data_path4).drop('label',axis = 1)"
   ]
  },
  {
   "cell_type": "markdown",
   "metadata": {},
   "source": [
    "# 数据合并"
   ]
  },
  {
   "cell_type": "code",
   "execution_count": 4,
   "metadata": {},
   "outputs": [],
   "source": [
    "# 将数据合并，前conmcat_num个数据合并\n",
    "concat_num = 4\n",
    "concat_list = [df_data1,df_data2,df_data3,df_data4,df_data5,df_data6,df_data7]\n",
    "\n",
    "df_row_train = pd.concat(concat_list[:concat_num], axis = 1)"
   ]
  },
  {
   "cell_type": "code",
   "execution_count": 5,
   "metadata": {},
   "outputs": [
    {
     "data": {
      "text/html": [
       "<div>\n",
       "<style scoped>\n",
       "    .dataframe tbody tr th:only-of-type {\n",
       "        vertical-align: middle;\n",
       "    }\n",
       "\n",
       "    .dataframe tbody tr th {\n",
       "        vertical-align: top;\n",
       "    }\n",
       "\n",
       "    .dataframe thead th {\n",
       "        text-align: right;\n",
       "    }\n",
       "</style>\n",
       "<table border=\"1\" class=\"dataframe\">\n",
       "  <thead>\n",
       "    <tr style=\"text-align: right;\">\n",
       "      <th></th>\n",
       "      <th>label</th>\n",
       "      <th>G</th>\n",
       "      <th>A</th>\n",
       "      <th>T</th>\n",
       "      <th>C</th>\n",
       "      <th>GG</th>\n",
       "      <th>GA</th>\n",
       "      <th>GT</th>\n",
       "      <th>GC</th>\n",
       "      <th>AG</th>\n",
       "      <th>...</th>\n",
       "      <th>CCCCCAT</th>\n",
       "      <th>CCCCCAC</th>\n",
       "      <th>CCCCCTG</th>\n",
       "      <th>CCCCCTA</th>\n",
       "      <th>CCCCCTT</th>\n",
       "      <th>CCCCCTC</th>\n",
       "      <th>CCCCCCG</th>\n",
       "      <th>CCCCCCA</th>\n",
       "      <th>CCCCCCT</th>\n",
       "      <th>CCCCCCC</th>\n",
       "    </tr>\n",
       "  </thead>\n",
       "  <tbody>\n",
       "    <tr>\n",
       "      <th>0</th>\n",
       "      <td>1</td>\n",
       "      <td>118</td>\n",
       "      <td>53</td>\n",
       "      <td>59</td>\n",
       "      <td>70</td>\n",
       "      <td>48</td>\n",
       "      <td>30</td>\n",
       "      <td>20</td>\n",
       "      <td>20</td>\n",
       "      <td>25</td>\n",
       "      <td>...</td>\n",
       "      <td>0</td>\n",
       "      <td>0</td>\n",
       "      <td>0</td>\n",
       "      <td>0</td>\n",
       "      <td>0</td>\n",
       "      <td>0</td>\n",
       "      <td>0</td>\n",
       "      <td>0</td>\n",
       "      <td>0</td>\n",
       "      <td>0</td>\n",
       "    </tr>\n",
       "    <tr>\n",
       "      <th>1</th>\n",
       "      <td>1</td>\n",
       "      <td>68</td>\n",
       "      <td>110</td>\n",
       "      <td>55</td>\n",
       "      <td>67</td>\n",
       "      <td>19</td>\n",
       "      <td>25</td>\n",
       "      <td>8</td>\n",
       "      <td>16</td>\n",
       "      <td>26</td>\n",
       "      <td>...</td>\n",
       "      <td>0</td>\n",
       "      <td>0</td>\n",
       "      <td>0</td>\n",
       "      <td>0</td>\n",
       "      <td>0</td>\n",
       "      <td>0</td>\n",
       "      <td>0</td>\n",
       "      <td>0</td>\n",
       "      <td>0</td>\n",
       "      <td>0</td>\n",
       "    </tr>\n",
       "    <tr>\n",
       "      <th>2</th>\n",
       "      <td>1</td>\n",
       "      <td>53</td>\n",
       "      <td>74</td>\n",
       "      <td>98</td>\n",
       "      <td>75</td>\n",
       "      <td>10</td>\n",
       "      <td>14</td>\n",
       "      <td>11</td>\n",
       "      <td>17</td>\n",
       "      <td>17</td>\n",
       "      <td>...</td>\n",
       "      <td>0</td>\n",
       "      <td>0</td>\n",
       "      <td>0</td>\n",
       "      <td>0</td>\n",
       "      <td>0</td>\n",
       "      <td>0</td>\n",
       "      <td>0</td>\n",
       "      <td>0</td>\n",
       "      <td>0</td>\n",
       "      <td>0</td>\n",
       "    </tr>\n",
       "    <tr>\n",
       "      <th>3</th>\n",
       "      <td>1</td>\n",
       "      <td>74</td>\n",
       "      <td>97</td>\n",
       "      <td>84</td>\n",
       "      <td>45</td>\n",
       "      <td>21</td>\n",
       "      <td>20</td>\n",
       "      <td>20</td>\n",
       "      <td>12</td>\n",
       "      <td>25</td>\n",
       "      <td>...</td>\n",
       "      <td>0</td>\n",
       "      <td>0</td>\n",
       "      <td>0</td>\n",
       "      <td>0</td>\n",
       "      <td>0</td>\n",
       "      <td>0</td>\n",
       "      <td>0</td>\n",
       "      <td>0</td>\n",
       "      <td>0</td>\n",
       "      <td>0</td>\n",
       "    </tr>\n",
       "    <tr>\n",
       "      <th>4</th>\n",
       "      <td>1</td>\n",
       "      <td>77</td>\n",
       "      <td>58</td>\n",
       "      <td>90</td>\n",
       "      <td>75</td>\n",
       "      <td>23</td>\n",
       "      <td>13</td>\n",
       "      <td>28</td>\n",
       "      <td>12</td>\n",
       "      <td>21</td>\n",
       "      <td>...</td>\n",
       "      <td>0</td>\n",
       "      <td>0</td>\n",
       "      <td>0</td>\n",
       "      <td>0</td>\n",
       "      <td>0</td>\n",
       "      <td>0</td>\n",
       "      <td>0</td>\n",
       "      <td>0</td>\n",
       "      <td>0</td>\n",
       "      <td>0</td>\n",
       "    </tr>\n",
       "  </tbody>\n",
       "</table>\n",
       "<p>5 rows × 21845 columns</p>\n",
       "</div>"
      ],
      "text/plain": [
       "   label    G    A   T   C  GG  GA  GT  GC  AG   ...     CCCCCAT  CCCCCAC  \\\n",
       "0      1  118   53  59  70  48  30  20  20  25   ...           0        0   \n",
       "1      1   68  110  55  67  19  25   8  16  26   ...           0        0   \n",
       "2      1   53   74  98  75  10  14  11  17  17   ...           0        0   \n",
       "3      1   74   97  84  45  21  20  20  12  25   ...           0        0   \n",
       "4      1   77   58  90  75  23  13  28  12  21   ...           0        0   \n",
       "\n",
       "   CCCCCTG  CCCCCTA  CCCCCTT  CCCCCTC  CCCCCCG  CCCCCCA  CCCCCCT  CCCCCCC  \n",
       "0        0        0        0        0        0        0        0        0  \n",
       "1        0        0        0        0        0        0        0        0  \n",
       "2        0        0        0        0        0        0        0        0  \n",
       "3        0        0        0        0        0        0        0        0  \n",
       "4        0        0        0        0        0        0        0        0  \n",
       "\n",
       "[5 rows x 21845 columns]"
      ]
     },
     "execution_count": 5,
     "metadata": {},
     "output_type": "execute_result"
    }
   ],
   "source": [
    "df_row_train.head()"
   ]
  },
  {
   "cell_type": "code",
   "execution_count": 6,
   "metadata": {},
   "outputs": [],
   "source": [
    "df_data_label = df_row_train.label\n",
    "df_data_features = df_row_train.drop('label',axis = 1)"
   ]
  },
  {
   "cell_type": "code",
   "execution_count": 7,
   "metadata": {},
   "outputs": [
    {
     "data": {
      "text/html": [
       "<div>\n",
       "<style scoped>\n",
       "    .dataframe tbody tr th:only-of-type {\n",
       "        vertical-align: middle;\n",
       "    }\n",
       "\n",
       "    .dataframe tbody tr th {\n",
       "        vertical-align: top;\n",
       "    }\n",
       "\n",
       "    .dataframe thead th {\n",
       "        text-align: right;\n",
       "    }\n",
       "</style>\n",
       "<table border=\"1\" class=\"dataframe\">\n",
       "  <thead>\n",
       "    <tr style=\"text-align: right;\">\n",
       "      <th></th>\n",
       "      <th>G</th>\n",
       "      <th>A</th>\n",
       "      <th>T</th>\n",
       "      <th>C</th>\n",
       "      <th>GG</th>\n",
       "      <th>GA</th>\n",
       "      <th>GT</th>\n",
       "      <th>GC</th>\n",
       "      <th>AG</th>\n",
       "      <th>AA</th>\n",
       "      <th>...</th>\n",
       "      <th>CCCCCAT</th>\n",
       "      <th>CCCCCAC</th>\n",
       "      <th>CCCCCTG</th>\n",
       "      <th>CCCCCTA</th>\n",
       "      <th>CCCCCTT</th>\n",
       "      <th>CCCCCTC</th>\n",
       "      <th>CCCCCCG</th>\n",
       "      <th>CCCCCCA</th>\n",
       "      <th>CCCCCCT</th>\n",
       "      <th>CCCCCCC</th>\n",
       "    </tr>\n",
       "  </thead>\n",
       "  <tbody>\n",
       "    <tr>\n",
       "      <th>0</th>\n",
       "      <td>118</td>\n",
       "      <td>53</td>\n",
       "      <td>59</td>\n",
       "      <td>70</td>\n",
       "      <td>48</td>\n",
       "      <td>30</td>\n",
       "      <td>20</td>\n",
       "      <td>20</td>\n",
       "      <td>25</td>\n",
       "      <td>13</td>\n",
       "      <td>...</td>\n",
       "      <td>0</td>\n",
       "      <td>0</td>\n",
       "      <td>0</td>\n",
       "      <td>0</td>\n",
       "      <td>0</td>\n",
       "      <td>0</td>\n",
       "      <td>0</td>\n",
       "      <td>0</td>\n",
       "      <td>0</td>\n",
       "      <td>0</td>\n",
       "    </tr>\n",
       "    <tr>\n",
       "      <th>1</th>\n",
       "      <td>68</td>\n",
       "      <td>110</td>\n",
       "      <td>55</td>\n",
       "      <td>67</td>\n",
       "      <td>19</td>\n",
       "      <td>25</td>\n",
       "      <td>8</td>\n",
       "      <td>16</td>\n",
       "      <td>26</td>\n",
       "      <td>43</td>\n",
       "      <td>...</td>\n",
       "      <td>0</td>\n",
       "      <td>0</td>\n",
       "      <td>0</td>\n",
       "      <td>0</td>\n",
       "      <td>0</td>\n",
       "      <td>0</td>\n",
       "      <td>0</td>\n",
       "      <td>0</td>\n",
       "      <td>0</td>\n",
       "      <td>0</td>\n",
       "    </tr>\n",
       "    <tr>\n",
       "      <th>2</th>\n",
       "      <td>53</td>\n",
       "      <td>74</td>\n",
       "      <td>98</td>\n",
       "      <td>75</td>\n",
       "      <td>10</td>\n",
       "      <td>14</td>\n",
       "      <td>11</td>\n",
       "      <td>17</td>\n",
       "      <td>17</td>\n",
       "      <td>15</td>\n",
       "      <td>...</td>\n",
       "      <td>0</td>\n",
       "      <td>0</td>\n",
       "      <td>0</td>\n",
       "      <td>0</td>\n",
       "      <td>0</td>\n",
       "      <td>0</td>\n",
       "      <td>0</td>\n",
       "      <td>0</td>\n",
       "      <td>0</td>\n",
       "      <td>0</td>\n",
       "    </tr>\n",
       "    <tr>\n",
       "      <th>3</th>\n",
       "      <td>74</td>\n",
       "      <td>97</td>\n",
       "      <td>84</td>\n",
       "      <td>45</td>\n",
       "      <td>21</td>\n",
       "      <td>20</td>\n",
       "      <td>20</td>\n",
       "      <td>12</td>\n",
       "      <td>25</td>\n",
       "      <td>37</td>\n",
       "      <td>...</td>\n",
       "      <td>0</td>\n",
       "      <td>0</td>\n",
       "      <td>0</td>\n",
       "      <td>0</td>\n",
       "      <td>0</td>\n",
       "      <td>0</td>\n",
       "      <td>0</td>\n",
       "      <td>0</td>\n",
       "      <td>0</td>\n",
       "      <td>0</td>\n",
       "    </tr>\n",
       "    <tr>\n",
       "      <th>4</th>\n",
       "      <td>77</td>\n",
       "      <td>58</td>\n",
       "      <td>90</td>\n",
       "      <td>75</td>\n",
       "      <td>23</td>\n",
       "      <td>13</td>\n",
       "      <td>28</td>\n",
       "      <td>12</td>\n",
       "      <td>21</td>\n",
       "      <td>14</td>\n",
       "      <td>...</td>\n",
       "      <td>0</td>\n",
       "      <td>0</td>\n",
       "      <td>0</td>\n",
       "      <td>0</td>\n",
       "      <td>0</td>\n",
       "      <td>0</td>\n",
       "      <td>0</td>\n",
       "      <td>0</td>\n",
       "      <td>0</td>\n",
       "      <td>0</td>\n",
       "    </tr>\n",
       "  </tbody>\n",
       "</table>\n",
       "<p>5 rows × 21844 columns</p>\n",
       "</div>"
      ],
      "text/plain": [
       "     G    A   T   C  GG  GA  GT  GC  AG  AA   ...     CCCCCAT  CCCCCAC  \\\n",
       "0  118   53  59  70  48  30  20  20  25  13   ...           0        0   \n",
       "1   68  110  55  67  19  25   8  16  26  43   ...           0        0   \n",
       "2   53   74  98  75  10  14  11  17  17  15   ...           0        0   \n",
       "3   74   97  84  45  21  20  20  12  25  37   ...           0        0   \n",
       "4   77   58  90  75  23  13  28  12  21  14   ...           0        0   \n",
       "\n",
       "   CCCCCTG  CCCCCTA  CCCCCTT  CCCCCTC  CCCCCCG  CCCCCCA  CCCCCCT  CCCCCCC  \n",
       "0        0        0        0        0        0        0        0        0  \n",
       "1        0        0        0        0        0        0        0        0  \n",
       "2        0        0        0        0        0        0        0        0  \n",
       "3        0        0        0        0        0        0        0        0  \n",
       "4        0        0        0        0        0        0        0        0  \n",
       "\n",
       "[5 rows x 21844 columns]"
      ]
     },
     "execution_count": 7,
     "metadata": {},
     "output_type": "execute_result"
    }
   ],
   "source": [
    "df_data_features.head()"
   ]
  },
  {
   "cell_type": "markdown",
   "metadata": {},
   "source": [
    "# 特征工程"
   ]
  },
  {
   "cell_type": "code",
   "execution_count": 8,
   "metadata": {},
   "outputs": [
    {
     "data": {
      "text/plain": [
       "(565, 2184)"
      ]
     },
     "execution_count": 8,
     "metadata": {},
     "output_type": "execute_result"
    }
   ],
   "source": [
    "from sklearn.feature_selection import VarianceThreshold, SelectPercentile\n",
    "from sklearn.feature_selection import chi2\n",
    "\n",
    "# 方差选择法，返回值为特征选择后的数据，参数threshold为方差的阈值\n",
    "\n",
    "#selector = VarianceThreshold(threshold =5)\n",
    "#new_data = selector.fit_transform(df_data_features)\n",
    "\n",
    "selector = SelectPercentile(chi2,percentile=10)\n",
    "new_data = selector.fit_transform(df_data_features, df_data_label)\n",
    "\n",
    "new_data.shape"
   ]
  },
  {
   "cell_type": "code",
   "execution_count": 9,
   "metadata": {},
   "outputs": [],
   "source": [
    "from sklearn.model_selection import train_test_split\n",
    "from sklearn import metrics"
   ]
  },
  {
   "cell_type": "code",
   "execution_count": 10,
   "metadata": {},
   "outputs": [],
   "source": [
    "train_X,test_X,train_Y,test_Y=train_test_split(new_data,df_data_label, test_size=0.1, random_state=0)"
   ]
  },
  {
   "cell_type": "markdown",
   "metadata": {},
   "source": [
    "## 2. Model Predict"
   ]
  },
  {
   "cell_type": "code",
   "execution_count": 11,
   "metadata": {},
   "outputs": [],
   "source": [
    "from sklearn.linear_model import LogisticRegression"
   ]
  },
  {
   "cell_type": "code",
   "execution_count": 12,
   "metadata": {},
   "outputs": [
    {
     "data": {
      "text/plain": [
       "242    1\n",
       "466    0\n",
       "127    1\n",
       "157    1\n",
       "415    0\n",
       "Name: label, dtype: int64"
      ]
     },
     "execution_count": 12,
     "metadata": {},
     "output_type": "execute_result"
    }
   ],
   "source": [
    "test_Y.head()"
   ]
  },
  {
   "cell_type": "code",
   "execution_count": 13,
   "metadata": {},
   "outputs": [
    {
     "name": "stdout",
     "output_type": "stream",
     "text": [
      "Accuracy for LogisticRegression is:0.7719298245614035\n"
     ]
    }
   ],
   "source": [
    "logistic_model = LogisticRegression()\n",
    "logistic_model.fit(train_X,train_Y)\n",
    "predict_Y = logistic_model.predict(test_X)\n",
    "print('Accuracy for LogisticRegression is:{}'.format(metrics.accuracy_score(predict_Y,test_Y)))"
   ]
  },
  {
   "cell_type": "code",
   "execution_count": 14,
   "metadata": {},
   "outputs": [],
   "source": [
    "from sklearn.svm import SVC"
   ]
  },
  {
   "cell_type": "code",
   "execution_count": 15,
   "metadata": {},
   "outputs": [
    {
     "name": "stdout",
     "output_type": "stream",
     "text": [
      "Accuracy for SVC is:0.45614035087719296\n"
     ]
    }
   ],
   "source": [
    "svc_model= SVC(kernel = 'rbf',C=1,gamma=0.1)\n",
    "svc_model.fit(train_X,train_Y)\n",
    "predict_SVC_Y = svc_model.predict(test_X)\n",
    "print('Accuracy for SVC is:{}'.format(metrics.accuracy_score(predict_SVC_Y,test_Y)))"
   ]
  },
  {
   "cell_type": "code",
   "execution_count": 16,
   "metadata": {},
   "outputs": [
    {
     "name": "stdout",
     "output_type": "stream",
     "text": [
      "Accuracy for SVC_linear is:0.8070175438596491\n"
     ]
    }
   ],
   "source": [
    "svc_linear_model = SVC(kernel='linear', C=0.1, gamma=0.1)\n",
    "svc_linear_model.fit(train_X,train_Y)\n",
    "predict_SVC_linear_Y = svc_linear_model.predict(test_X)\n",
    "print('Accuracy for SVC_linear is:{}'.format(metrics.accuracy_score(predict_SVC_linear_Y, test_Y)))"
   ]
  },
  {
   "cell_type": "code",
   "execution_count": 17,
   "metadata": {},
   "outputs": [],
   "source": [
    "from sklearn.neighbors import KNeighborsClassifier"
   ]
  },
  {
   "cell_type": "code",
   "execution_count": 18,
   "metadata": {},
   "outputs": [
    {
     "name": "stdout",
     "output_type": "stream",
     "text": [
      "Accuracy for knn is: 0.5614035087719298\n"
     ]
    }
   ],
   "source": [
    "knn_model = KNeighborsClassifier()\n",
    "knn_model.fit(train_X,train_Y)\n",
    "predict_knn_Y = knn_model.predict(test_X)\n",
    "print('Accuracy for knn is: {}'.format(metrics.accuracy_score(predict_knn_Y,test_Y)))"
   ]
  },
  {
   "cell_type": "code",
   "execution_count": 19,
   "metadata": {},
   "outputs": [
    {
     "data": {
      "image/png": "[encoded data removed]",
      "text/plain": [
       "<Figure size 864x432 with 1 Axes>"
      ]
     },
     "metadata": {},
     "output_type": "display_data"
    },
    {
     "name": "stdout",
     "output_type": "stream",
     "text": [
      "Accuracies for different values of n are: [0.50877193 0.52631579 0.54385965 0.50877193 0.56140351 0.59649123\n",
      " 0.56140351 0.56140351 0.63157895 0.57894737] with the max value as  0.631578947368421\n"
     ]
    }
   ],
   "source": [
    "a_index=list(range(1,11))\n",
    "a=pd.Series()\n",
    "x=[0,1,2,3,4,5,6,7,8,9,10]\n",
    "for i in list(range(1,11)):\n",
    "    model=KNeighborsClassifier(n_neighbors=i) \n",
    "    model.fit(train_X,train_Y)\n",
    "    prediction=model.predict(test_X)\n",
    "    a=a.append(pd.Series(metrics.accuracy_score(prediction,test_Y)))\n",
    "plt.plot(a_index, a)\n",
    "plt.xticks(x)\n",
    "fig=plt.gcf()\n",
    "fig.set_size_inches(12,6)\n",
    "plt.show()\n",
    "print('Accuracies for different values of n are:',a.values,'with the max value as ',a.values.max())"
   ]
  },
  {
   "cell_type": "code",
   "execution_count": 20,
   "metadata": {},
   "outputs": [],
   "source": [
    "from sklearn.tree import DecisionTreeClassifier"
   ]
  },
  {
   "cell_type": "code",
   "execution_count": 21,
   "metadata": {},
   "outputs": [
    {
     "name": "stdout",
     "output_type": "stream",
     "text": [
      "Accuracy for DecisionTree is:0.5789473684210527\n"
     ]
    }
   ],
   "source": [
    "decisionTree_model = DecisionTreeClassifier()\n",
    "decisionTree_model.fit(train_X,train_Y)\n",
    "predict_decisionTree_Y = decisionTree_model.predict(test_X)\n",
    "print('Accuracy for DecisionTree is:{}'.format(metrics.accuracy_score(predict_decisionTree_Y,test_Y)))"
   ]
  },
  {
   "cell_type": "code",
   "execution_count": 22,
   "metadata": {},
   "outputs": [],
   "source": [
    "from sklearn.naive_bayes import GaussianNB"
   ]
  },
  {
   "cell_type": "code",
   "execution_count": 23,
   "metadata": {},
   "outputs": [
    {
     "name": "stdout",
     "output_type": "stream",
     "text": [
      "Accuracy for GaussianNB is:0.9649122807017544\n"
     ]
    }
   ],
   "source": [
    "gaussianNB_model = GaussianNB()\n",
    "gaussianNB_model.fit(train_X,train_Y)\n",
    "predict_gaussianNB_Y = gaussianNB_model.predict(test_X)\n",
    "print('Accuracy for GaussianNB is:{}'.format(metrics.accuracy_score(predict_gaussianNB_Y, test_Y)))"
   ]
  },
  {
   "cell_type": "code",
   "execution_count": 24,
   "metadata": {},
   "outputs": [
    {
     "name": "stderr",
     "output_type": "stream",
     "text": [
      "d:\\develop\\pythom3_7_0\\lib\\site-packages\\sklearn\\ensemble\\weight_boosting.py:29: DeprecationWarning: numpy.core.umath_tests is an internal NumPy module and should not be imported. It will be removed in a future NumPy release.\n",
      "  from numpy.core.umath_tests import inner1d\n"
     ]
    }
   ],
   "source": [
    "from sklearn.ensemble import RandomForestClassifier"
   ]
  },
  {
   "cell_type": "code",
   "execution_count": 25,
   "metadata": {},
   "outputs": [
    {
     "name": "stdout",
     "output_type": "stream",
     "text": [
      "Accuracy for DecisionTree is:0.6666666666666666\n"
     ]
    }
   ],
   "source": [
    "rf_model = RandomForestClassifier()\n",
    "rf_model.fit(train_X,train_Y)\n",
    "predict_rf = rf_model.predict(test_X)\n",
    "print('Accuracy for DecisionTree is:{}'.format(metrics.accuracy_score(predict_rf, test_Y)))"
   ]
  },
  {
   "cell_type": "code",
   "execution_count": 26,
   "metadata": {},
   "outputs": [
    {
     "data": {
      "text/html": [
       "<div>\n",
       "<style scoped>\n",
       "    .dataframe tbody tr th:only-of-type {\n",
       "        vertical-align: middle;\n",
       "    }\n",
       "\n",
       "    .dataframe tbody tr th {\n",
       "        vertical-align: top;\n",
       "    }\n",
       "\n",
       "    .dataframe thead th {\n",
       "        text-align: right;\n",
       "    }\n",
       "</style>\n",
       "<table border=\"1\" class=\"dataframe\">\n",
       "  <thead>\n",
       "    <tr style=\"text-align: right;\">\n",
       "      <th></th>\n",
       "      <th>CV Mean</th>\n",
       "      <th>Std</th>\n",
       "    </tr>\n",
       "  </thead>\n",
       "  <tbody>\n",
       "    <tr>\n",
       "      <th>Linear Svm</th>\n",
       "      <td>0.804824</td>\n",
       "      <td>0.064761</td>\n",
       "    </tr>\n",
       "    <tr>\n",
       "      <th>Radial Svm</th>\n",
       "      <td>0.633882</td>\n",
       "      <td>0.078877</td>\n",
       "    </tr>\n",
       "    <tr>\n",
       "      <th>Logistic Regression</th>\n",
       "      <td>0.799020</td>\n",
       "      <td>0.079893</td>\n",
       "    </tr>\n",
       "    <tr>\n",
       "      <th>KNN</th>\n",
       "      <td>0.541098</td>\n",
       "      <td>0.054108</td>\n",
       "    </tr>\n",
       "    <tr>\n",
       "      <th>Decision Tree</th>\n",
       "      <td>0.594353</td>\n",
       "      <td>0.060266</td>\n",
       "    </tr>\n",
       "    <tr>\n",
       "      <th>Naive Bayes</th>\n",
       "      <td>0.954745</td>\n",
       "      <td>0.024907</td>\n",
       "    </tr>\n",
       "    <tr>\n",
       "      <th>Random Forest</th>\n",
       "      <td>0.667216</td>\n",
       "      <td>0.095540</td>\n",
       "    </tr>\n",
       "  </tbody>\n",
       "</table>\n",
       "</div>"
      ],
      "text/plain": [
       "                      CV Mean       Std\n",
       "Linear Svm           0.804824  0.064761\n",
       "Radial Svm           0.633882  0.078877\n",
       "Logistic Regression  0.799020  0.079893\n",
       "KNN                  0.541098  0.054108\n",
       "Decision Tree        0.594353  0.060266\n",
       "Naive Bayes          0.954745  0.024907\n",
       "Random Forest        0.667216  0.095540"
      ]
     },
     "execution_count": 26,
     "metadata": {},
     "output_type": "execute_result"
    }
   ],
   "source": [
    "from sklearn.model_selection import KFold #for K-fold cross validation\n",
    "from sklearn.model_selection import cross_val_score #score evaluation\n",
    "from sklearn.model_selection import cross_val_predict #prediction\n",
    "kfold = KFold(n_splits=10, random_state=22) # k=10, split the data into 10 equal parts\n",
    "xyz=[]\n",
    "accuracy=[]\n",
    "std=[]\n",
    "classifiers=['Linear Svm','Radial Svm','Logistic Regression','KNN','Decision Tree','Naive Bayes','Random Forest']\n",
    "models=[SVC(kernel='linear'),SVC(kernel='rbf'),LogisticRegression(),KNeighborsClassifier(n_neighbors=10),DecisionTreeClassifier(),GaussianNB(),RandomForestClassifier()]\n",
    "for i in models:\n",
    "    model = i\n",
    "    cv_result = cross_val_score(model,train_X,train_Y, cv = kfold,scoring = \"accuracy\")\n",
    "    cv_result=cv_result\n",
    "    xyz.append(cv_result.mean())\n",
    "    std.append(cv_result.std())\n",
    "    accuracy.append(cv_result)\n",
    "new_models_dataframe2=pd.DataFrame({'CV Mean':xyz,'Std':std},index=classifiers)       \n",
    "new_models_dataframe2"
   ]
  },
  {
   "cell_type": "code",
   "execution_count": null,
   "metadata": {},
   "outputs": [],
   "source": []
  }
 ],
 "metadata": {
  "kernelspec": {
   "display_name": "Python 3",
   "language": "python",
   "name": "python3"
  },
  "language_info": {
   "codemirror_mode": {
    "name": "ipython",
    "version": 3
   },
   "file_extension": ".py",
   "mimetype": "text/x-python",
   "name": "python",
   "nbconvert_exporter": "python",
   "pygments_lexer": "ipython3",
   "version": "3.7.0"
  }
 },
 "nbformat": 4,
 "nbformat_minor": 2
}
