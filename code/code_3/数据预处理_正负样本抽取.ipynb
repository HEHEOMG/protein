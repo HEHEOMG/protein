{
 "cells": [
  {
   "cell_type": "markdown",
   "metadata": {},
   "source": [
    "# 内容： 将原数据抽取成只含有数据的正负两个样本"
   ]
  },
  {
   "cell_type": "code",
   "execution_count": 1,
   "metadata": {},
   "outputs": [],
   "source": [
    "# 导包\n",
    "import os\n",
    "import csv"
   ]
  },
  {
   "cell_type": "code",
   "execution_count": 2,
   "metadata": {},
   "outputs": [],
   "source": [
    "# 将正类和负类数据抽取成list\n",
    "def extract_data(path):\n",
    "    lines_list = []\n",
    "    lines = ''\n",
    "    with open(path, 'r') as f:\n",
    "        for line in f.readlines():\n",
    "            if '>' not in line:\n",
    "                line = line.replace('\\n','').replace('\\t','').replace('\\r','').strip()\n",
    "                lines = lines + line\n",
    "            else:\n",
    "                lines_list.append(lines)\n",
    "                lines = ''\n",
    "    lines_list.remove('')\n",
    "    lines_list.append(lines)\n",
    "    return lines_list"
   ]
  },
  {
   "cell_type": "code",
   "execution_count": 3,
   "metadata": {},
   "outputs": [],
   "source": [
    "# 选取指定长度的蛋白质序列\n",
    "def get_length_data(data, data_lehgth=10):\n",
    "    new_data = []\n",
    "    for dat in data:\n",
    "        if len(dat)>data_lehgth:\n",
    "            new_data.append([dat])    ## 注意这里的不同\n",
    "    return new_data"
   ]
  },
  {
   "cell_type": "code",
   "execution_count": 4,
   "metadata": {},
   "outputs": [],
   "source": [
    "# 保存数据\n",
    "def save_data(data, path):\n",
    "    with open(path, 'w', newline='') as f:\n",
    "        writer = csv.writer(f)\n",
    "        writer.writerows(data)\n",
    "    print('Finish writer!!!')"
   ]
  },
  {
   "cell_type": "code",
   "execution_count": 5,
   "metadata": {},
   "outputs": [],
   "source": [
    "# path\n",
    "path_data_dir = os.path.dirname(os.path.dirname(os.getcwd()))\n",
    "\n",
    "path_row_positive = path_data_dir +  r'\\row_data\\Protein\\Thermophilic\\thermophilic.txt'\n",
    "path_row_negitive = path_data_dir +  r'\\row_data\\Protein\\Thermophilic\\non-thermophilic.txt'\n",
    "\n",
    "path_new_positive = path_data_dir + r'\\new_data\\Thermophilic\\data\\positive.csv'\n",
    "path_new_negative = path_data_dir + r'\\new_data\\Thermophilic\\data\\negitive.csv'"
   ]
  },
  {
   "cell_type": "code",
   "execution_count": 6,
   "metadata": {},
   "outputs": [
    {
     "name": "stdout",
     "output_type": "stream",
     "text": [
      "Finish writer!!!\n",
      "Finish writer!!!\n"
     ]
    }
   ],
   "source": [
    "# 抽取正负样本数据\n",
    "positive_data = extract_data(path_row_positive)\n",
    "negative_data = extract_data(path_row_negitive)\n",
    "\n",
    "# 蛋白质序列要大于10的\n",
    "data_length = 10\n",
    "\n",
    "positive_data = get_length_data(positive_data, data_length)\n",
    "negative_data = get_length_data(negative_data, data_length)\n",
    "\n",
    "# 写入数据\n",
    "save_data(positive_data, path_new_positive)\n",
    "save_data(negative_data, path_new_negative)"
   ]
  },
  {
   "cell_type": "code",
   "execution_count": null,
   "metadata": {},
   "outputs": [],
   "source": []
  }
 ],
 "metadata": {
  "kernelspec": {
   "display_name": "Python 3",
   "language": "python",
   "name": "python3"
  },
  "language_info": {
   "codemirror_mode": {
    "name": "ipython",
    "version": 3
   },
   "file_extension": ".py",
   "mimetype": "text/x-python",
   "name": "python",
   "nbconvert_exporter": "python",
   "pygments_lexer": "ipython3",
   "version": "3.7.0"
  }
 },
 "nbformat": 4,
 "nbformat_minor": 2
}
