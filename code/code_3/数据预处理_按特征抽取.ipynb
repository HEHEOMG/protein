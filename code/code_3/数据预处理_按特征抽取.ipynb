{
 "cells": [
  {
   "cell_type": "markdown",
   "metadata": {},
   "source": [
    "# 内容：将蛋白质序列按特征进行转换"
   ]
  },
  {
   "cell_type": "markdown",
   "metadata": {},
   "source": [
    "### 基本转换思想：构建一个特征字典，将相应的氨基酸映射到数据上同时构建这个内容，但同时需要注意，有个别蛋白质序列存在一些我们不考虑的氨基酸的氨基酸"
   ]
  },
  {
   "cell_type": "code",
   "execution_count": 1,
   "metadata": {},
   "outputs": [],
   "source": [
    "import os\n",
    "import csv"
   ]
  },
  {
   "cell_type": "code",
   "execution_count": 2,
   "metadata": {},
   "outputs": [],
   "source": [
    "# 定义蛋白质特征\n",
    "size = {'C': 1, 'S': 1, 'A': 1, 'G': 1, \n",
    "        'N': 2, 'T': 2, 'D': 2, 'P': 2, \n",
    "        'M': 3, 'L': 3, 'I': 3, 'H': 3, 'Q': 3, 'E': 3, 'V': 3, \n",
    "        'W': 4, 'R': 4, 'Y': 4, 'F': 4, 'K': 4}\n",
    "\n"
   ]
  },
  {
   "cell_type": "code",
   "execution_count": 3,
   "metadata": {},
   "outputs": [],
   "source": [
    "# 将正类和负类数据抽取成list\n",
    "def extract_data(path):\n",
    "    lines_list =[]\n",
    "    with open(path, 'r') as f:\n",
    "        for line in f.readlines():\n",
    "            line = line.replace('\\n','')\n",
    "            lines_list.append(line)\n",
    "    return lines_list"
   ]
  },
  {
   "cell_type": "code",
   "execution_count": 4,
   "metadata": {},
   "outputs": [],
   "source": [
    "def get_replaced_data(data, chara):\n",
    "    new_data = []\n",
    "    for line in data:\n",
    "        new_line = ''\n",
    "        for i in line:\n",
    "            if i in chara.keys():\n",
    "                new_line += str(chara[i])\n",
    "            else:\n",
    "                new_line += '0'\n",
    "        new_data.append([new_line])\n",
    "    return new_data"
   ]
  },
  {
   "cell_type": "code",
   "execution_count": 5,
   "metadata": {},
   "outputs": [],
   "source": [
    "# path\n",
    "path_data_dir = os.path.dirname(os.path.dirname(os.getcwd()))\n",
    "\n",
    "path_new_positive = path_data_dir + r'\\new_data\\Thermophilic\\data\\positive.csv'\n",
    "path_new_negative = path_data_dir + r'\\new_data\\Thermophilic\\data\\negitive.csv'\n",
    "\n",
    "\n",
    "path_positive = path_data_dir + r'\\new_data\\Thermophilic\\size_featurre\\positive.csv'\n",
    "path_negative = path_data_dir + r'\\new_data\\Thermophilic\\size_featurre\\negitive.csv'"
   ]
  },
  {
   "cell_type": "code",
   "execution_count": 6,
   "metadata": {},
   "outputs": [
    {
     "name": "stdout",
     "output_type": "stream",
     "text": [
      "915\n",
      "793\n",
      "915\n",
      "793\n"
     ]
    }
   ],
   "source": [
    "# 抽取正负样本数据\n",
    "positive_data = extract_data(path_new_positive)\n",
    "negative_data = extract_data(path_new_negative)\n",
    "\n",
    "print(len(positive_data))\n",
    "print(len(negative_data))\n",
    "\n",
    "# 转换数据\n",
    "positive_data = get_replaced_data(positive_data, size)\n",
    "negative_data = get_replaced_data(negative_data, size)\n",
    "\n",
    "print(len(positive_data))\n",
    "print(len(negative_data))"
   ]
  },
  {
   "cell_type": "code",
   "execution_count": 7,
   "metadata": {},
   "outputs": [],
   "source": [
    "# 保存数据\n",
    "def save_data(data, path):\n",
    "    with open(path, 'w', newline='') as f:\n",
    "        writer = csv.writer(f)\n",
    "        writer.writerows(data)\n",
    "    print('Finish writer!!!')"
   ]
  },
  {
   "cell_type": "code",
   "execution_count": 8,
   "metadata": {},
   "outputs": [
    {
     "name": "stdout",
     "output_type": "stream",
     "text": [
      "Finish writer!!!\n",
      "Finish writer!!!\n"
     ]
    }
   ],
   "source": [
    "# 写入数据\n",
    "save_data(positive_data, path_positive)\n",
    "save_data(negative_data, path_negative)"
   ]
  }
 ],
 "metadata": {
  "kernelspec": {
   "display_name": "Python 3",
   "language": "python",
   "name": "python3"
  },
  "language_info": {
   "codemirror_mode": {
    "name": "ipython",
    "version": 3
   },
   "file_extension": ".py",
   "mimetype": "text/x-python",
   "name": "python",
   "nbconvert_exporter": "python",
   "pygments_lexer": "ipython3",
   "version": "3.7.0"
  }
 },
 "nbformat": 4,
 "nbformat_minor": 2
}
