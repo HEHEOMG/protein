{
 "cells": [
  {
   "cell_type": "markdown",
   "metadata": {},
   "source": [
    "# 内容：依据特征树构造新特征"
   ]
  },
  {
   "cell_type": "code",
   "execution_count": 1,
   "metadata": {},
   "outputs": [],
   "source": [
    "# 导包\n",
    "import re\n",
    "import csv\n",
    "import os\n",
    "import pandas as pd\n",
    "import warnings\n",
    "warnings.filterwarnings('ignore')"
   ]
  },
  {
   "cell_type": "code",
   "execution_count": 2,
   "metadata": {},
   "outputs": [],
   "source": [
    "# path\n",
    "path_data_dir = os.path.dirname(os.path.dirname(os.getcwd()))\n",
    "\n",
    "path_new_positive = path_data_dir + r'\\new_data\\Thermophilic\\data\\positive.csv'\n",
    "path_new_negative = path_data_dir + r'\\new_data\\Thermophilic\\data\\negitive.csv'\n",
    "\n",
    "train_data_path_part1 = path_data_dir + r'\\new_data\\new_features\\feature_select_'\n",
    "train_data_path_part2 = '_'\n",
    "train_data_path_part3 = r'_gap.csv'"
   ]
  },
  {
   "cell_type": "code",
   "execution_count": 3,
   "metadata": {},
   "outputs": [],
   "source": [
    "# 将正类和负类数据抽取成list\n",
    "def extract_data(path):\n",
    "    lines_list =[]\n",
    "    with open(path, 'r') as f:\n",
    "        for line in f.readlines():\n",
    "            lines_list.append(line)\n",
    "    return lines_list"
   ]
  },
  {
   "cell_type": "code",
   "execution_count": 4,
   "metadata": {},
   "outputs": [],
   "source": [
    "# 抽取正负样本数据\n",
    "positive_data = extract_data(path_new_positive)\n",
    "negative_data = extract_data(path_new_negative)"
   ]
  },
  {
   "cell_type": "code",
   "execution_count": null,
   "metadata": {},
   "outputs": [],
   "source": [
    "# 标准氨基酸 ACDEFGHIKLMNPQRSTVWY\n",
    "# 当特征为连续k个时，创建k的n次方个特征返回\n",
    "def create_features(new_features,k,if_gap=False, temp = ['A','C','D','E','F','G','H','I','K','L','M','N','P','Q','R','S','T','V','W','Y'] ):\n",
    "    if if_gap==False:\n",
    "        row_features = temp\n",
    "    else:\n",
    "        row_features = ['*']\n",
    "    length = len(new_features)\n",
    "    features = []\n",
    "    for i in range(length):\n",
    "        for j in row_features:\n",
    "            features.append(new_features[i] + j)\n",
    "    if k > 1:\n",
    "        k -= 1\n",
    "        features = create_features(features,k)\n",
    "    return features"
   ]
  },
  {
   "cell_type": "code",
   "execution_count": null,
   "metadata": {},
   "outputs": [],
   "source": [
    "def get_ratio(feature, data, pat= '[A-Z]'):\n",
    "    # 获取某一个特征在某一类（正类或负类）中的比率\n",
    "    length = len(data)\n",
    "    freq = 0\n",
    "    for d in data:\n",
    "        pattern = r''\n",
    "        for s in feature:\n",
    "            if s!='*':\n",
    "                pattern += s\n",
    "            else:\n",
    "                pattern += pat   # 修改\n",
    "        flag = re.search(pattern, d)\n",
    "        if flag != None:\n",
    "            freq += 1\n",
    "    return freq/length"
   ]
  },
  {
   "cell_type": "code",
   "execution_count": null,
   "metadata": {},
   "outputs": [],
   "source": [
    "def get_class_ratio(features, data):\n",
    "    # 获取一类在所有样本中的比率\n",
    "    features_ratio = {}\n",
    "    for feat in features:\n",
    "        features_ratio[feat] = get_ratio(feat, data)\n",
    "    return features_ratio  # 字典"
   ]
  },
  {
   "cell_type": "code",
   "execution_count": null,
   "metadata": {},
   "outputs": [],
   "source": [
    "def get_features(psoitive_output, ratio = 0.95):\n",
    "    temp = []\n",
    "    for i in psoitive_output.columns:\n",
    "        if psoitive_output.loc['psoitive_ratio',i] <ratio:\n",
    "            temp.append(i)\n",
    "    return temp"
   ]
  },
  {
   "cell_type": "code",
   "execution_count": null,
   "metadata": {},
   "outputs": [],
   "source": [
    "# 特征树\n",
    "def get_tree_features(features, gap, depth=0, stop_depth=27):\n",
    "    global number # 当前生成的特征是第几个，用于输出特征\n",
    "    depth += 1    # 当前特征树的深度\n",
    "    print(depth)\n",
    "    if depth>stop_depth:  # 迭代终止条件，kmer的长度\n",
    "        return None\n",
    "    if gap == False: # 当前生成特征不是*\n",
    "        row_features = create_features(features, 1, gap) # 生成新的特征集合\n",
    "        #print(row_features)\n",
    "        psoitive_ratio = get_class_ratio(row_features, positive_data) # 获取特征集的百分比\n",
    "        psoitive_output = pd.DataFrame([psoitive_ratio],index = ['psoitive_ratio']) # 生成dataframe\n",
    "        drop_feature = get_features(psoitive_output)  # 生成不满足条件的特征\n",
    "        psoitive_output.drop(drop_feature, axis = 1, inplace = True) # 将不满足条件的特征去除\n",
    "        if psoitive_output.empty:     # 迭代终止条件，该特征没有\n",
    "            print('该序列特征为空')\n",
    "            return None\n",
    "        else:\n",
    "            psoitive_output = psoitive_output.sort_values('psoitive_ratio',axis = 1,ascending=False)\n",
    "            negative_ratio = get_class_ratio(psoitive_output.columns, negative_data)\n",
    "            negative_output = pd.DataFrame([negative_ratio],index = ['negative_ratio'])\n",
    "            output = pd.concat([psoitive_output,negative_output],axis = 0)\n",
    "            #print(output)\n",
    "            output = output.sort_values('negative_ratio',axis = 1)\n",
    "            number += 1\n",
    "            train_data_path_part = train_data_path_part1 + str(number) + train_data_path_part3\n",
    "            if len(output.columns) > 100:\n",
    "                output = output.iloc[:,:100]\n",
    "                #print(output)\n",
    "                output.to_csv(train_data_path_part, index = None)\n",
    "            else:\n",
    "                #print(output)\n",
    "                output.to_csv(train_data_path_part, index = None)\n",
    "            features = output.columns\n",
    "            get_tree_features(features, False, depth, stop_depth)\n",
    "            get_tree_features(features, True, depth, stop_depth)\n",
    "            \n",
    "    else:\n",
    "        row_features = create_features(features, 1, gap)\n",
    "        #print(row_features)\n",
    "        get_tree_features(row_features, False, depth, stop_depth)\n",
    "        get_tree_features(row_features, True, depth, stop_depth)"
   ]
  }
 ],
 "metadata": {
  "kernelspec": {
   "display_name": "Python 3",
   "language": "python",
   "name": "python3"
  },
  "language_info": {
   "codemirror_mode": {
    "name": "ipython",
    "version": 3
   },
   "file_extension": ".py",
   "mimetype": "text/x-python",
   "name": "python",
   "nbconvert_exporter": "python",
   "pygments_lexer": "ipython3",
   "version": "3.6.6"
  }
 },
 "nbformat": 4,
 "nbformat_minor": 2
}
