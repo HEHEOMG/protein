{
 "cells": [
  {
   "cell_type": "code",
   "execution_count": 1,
   "metadata": {},
   "outputs": [],
   "source": [
    "import re\n",
    "import csv\n",
    "import os"
   ]
  },
  {
   "cell_type": "code",
   "execution_count": 2,
   "metadata": {},
   "outputs": [],
   "source": [
    "def extract_data(path):\n",
    "    lines_list = []\n",
    "    lines = ''\n",
    "    with open(path, 'r') as f:\n",
    "        for line in f.readlines():\n",
    "            if '>' not in line:\n",
    "                line = line.replace('\\n','').replace('\\t','').replace('\\r','').strip()\n",
    "                lines = lines + line\n",
    "            else:\n",
    "                lines_list.append(lines)\n",
    "                lines = ''\n",
    "    lines_list.remove('')\n",
    "    lines_list.append(lines)\n",
    "    return lines_list"
   ]
  },
  {
   "cell_type": "code",
   "execution_count": 3,
   "metadata": {},
   "outputs": [],
   "source": [
    "# 标准氨基酸 ACDEFGHIKLMNPQRSTVWY\n",
    "# 当特征为连续k个时，创建k的n次方个特征返回\n",
    "def create_features(new_features,k):\n",
    "    row_features = ['A','C','D','E','F','G','H','I','K','L','M','N','P','Q','R','S','T','V','W','Y','U','X']\n",
    "    length = len(new_features)\n",
    "    features = []\n",
    "    for i in range(length):\n",
    "        for j in row_features:\n",
    "            features.append(new_features[i] + j)\n",
    "    if k > 1:\n",
    "        k -= 1\n",
    "        features = create_features(features,k)\n",
    "    return features"
   ]
  },
  {
   "cell_type": "code",
   "execution_count": 4,
   "metadata": {},
   "outputs": [],
   "source": [
    "# 特征工程，统计每条数据的每个特征出现的次数\n",
    "def get_k_meter(data_list, label, k):\n",
    "    new_data  = []\n",
    "    features = create_features([''],k)\n",
    "    for line in data_list:\n",
    "        #print(line)\n",
    "        data_line = {'label':label}\n",
    "        for feature in features:\n",
    "            data_line.setdefault(feature,0)\n",
    "        length = len(line)-k +1\n",
    "        for i in range(length):\n",
    "            now_feature = line[i:i+k]\n",
    "            data_line[now_feature] += 1\n",
    "        new_data.append(data_line)\n",
    "    features.insert(0,'label')\n",
    "    return new_data, features"
   ]
  },
  {
   "cell_type": "code",
   "execution_count": 5,
   "metadata": {},
   "outputs": [],
   "source": [
    "# 将整合数据按行写入csv文件\n",
    "def data_to_csv(positive_data,train_data_path_part1,train_data_path_part2, k ,features):\n",
    "    train_data_path = train_data_path_part1 + str(k) +train_data_path_part2\n",
    "    csv_file = open(train_data_path, 'a',newline='')\n",
    "    csv_writer = csv.writer(csv_file)\n",
    "    csv_writer.writerow(features)\n",
    "    for line in positive_data:\n",
    "        real_line = [line[i] for i in features]\n",
    "        csv_writer.writerow(real_line)\n",
    "    csv_file.close()\n",
    "    print('文件整理输出完毕！！！')"
   ]
  },
  {
   "cell_type": "code",
   "execution_count": 6,
   "metadata": {},
   "outputs": [],
   "source": [
    "# path\n",
    "path_data_dir = os.path.dirname(os.getcwd())\n",
    "\n",
    "path_negative_data = path_data_dir + r'\\row_data\\non-thermophilic.txt'\n",
    "path_positive_data = path_data_dir +  r'\\row_data\\thermophilic.txt'\n",
    "\n",
    "train_data_path_part1 = path_data_dir + r'\\new_data\\kmer\\train_'\n",
    "train_data_path_part2 = r'_meter.csv'"
   ]
  },
  {
   "cell_type": "code",
   "execution_count": null,
   "metadata": {},
   "outputs": [
    {
     "name": "stdout",
     "output_type": "stream",
     "text": [
      "4 mater数据整理完成，共 1708 条数据\n"
     ]
    }
   ],
   "source": [
    "# 数据抽取并整合\n",
    "\n",
    "for k in range(1,8):\n",
    "    positive_data = extract_data(path_positive_data)\n",
    "    negative_data = extract_data(path_negative_data)\n",
    "\n",
    "\n",
    "    new_positive_data , features= get_k_meter(positive_data,'1',k)\n",
    "    new_negative_data , features= get_k_meter(negative_data,'0',k)\n",
    "\n",
    "    new_positive_data.extend(new_negative_data)\n",
    "\n",
    "    print('{} mater数据整理完成，共 {} 条数据'.format(k,len(new_positive_data)))\n",
    "    data_to_csv(new_positive_data,train_data_path_part1,train_data_path_part2, k ,features)\n"
   ]
  }
 ],
 "metadata": {
  "kernelspec": {
   "display_name": "Python 3",
   "language": "python",
   "name": "python3"
  },
  "language_info": {
   "codemirror_mode": {
    "name": "ipython",
    "version": 3
   },
   "file_extension": ".py",
   "mimetype": "text/x-python",
   "name": "python",
   "nbconvert_exporter": "python",
   "pygments_lexer": "ipython3",
   "version": "3.7.0"
  }
 },
 "nbformat": 4,
 "nbformat_minor": 2
}
