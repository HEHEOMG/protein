{
 "cells": [
  {
   "cell_type": "code",
   "execution_count": 1,
   "metadata": {},
   "outputs": [],
   "source": [
    "# 导包\n",
    "import pandas as pd\n",
    "import re\n",
    "\n",
    "import os"
   ]
  },
  {
   "cell_type": "code",
   "execution_count": 2,
   "metadata": {},
   "outputs": [],
   "source": [
    "# path\n",
    "path_data_dir = os.path.dirname(os.getcwd())\n",
    "\n",
    "path_row_data = path_data_dir + r'\\new_data\\kmer\\train_4_meter.csv'\n",
    "\n",
    "path_new_data_1 = path_data_dir + r'\\new_data\\kmer_gap\\train4_gap_'\n",
    "path_new_data_2 = '_'\n",
    "path_new_data_3 = '_meter.csv'"
   ]
  },
  {
   "cell_type": "code",
   "execution_count": 3,
   "metadata": {},
   "outputs": [],
   "source": [
    "# load data\n",
    "reader = pd.read_csv(path_row_data, iterator= True)"
   ]
  },
  {
   "cell_type": "code",
   "execution_count": 4,
   "metadata": {},
   "outputs": [],
   "source": [
    "def get_new_features(col, start, end):\n",
    "    new_col = []\n",
    "    for col_name in col:\n",
    "        col_name = list(col_name)\n",
    "        col_start = col_name[:start]\n",
    "        col_start.append('*'*(end-start))\n",
    "        col_end = col_name[end:]\n",
    "        col_start.extend(col_end)\n",
    "        new_col.append(''.join(col_start))\n",
    "    return new_col"
   ]
  },
  {
   "cell_type": "code",
   "execution_count": 5,
   "metadata": {},
   "outputs": [],
   "source": [
    "chunksize = 100\n",
    "df_row_data = reader.get_chunk(chunksize)"
   ]
  },
  {
   "cell_type": "code",
   "execution_count": 6,
   "metadata": {},
   "outputs": [],
   "source": [
    "df_row_label = df_row_data.label\n",
    "df_row_data.drop('label', axis = 1, inplace = True)"
   ]
  },
  {
   "cell_type": "code",
   "execution_count": 7,
   "metadata": {},
   "outputs": [],
   "source": [
    "columns= df_row_data.columns"
   ]
  },
  {
   "cell_type": "code",
   "execution_count": 8,
   "metadata": {},
   "outputs": [],
   "source": [
    "new_columns = get_new_features(columns, 2, 3) # 获取新列\n",
    "\n",
    "df_row_data.columns = new_columns # 将新列赋值给原table\n",
    "\n",
    "unrepeat_col = set(new_columns)\n",
    "new_data = pd.DataFrame()\n",
    "new_data['label'] = df_row_label\n",
    "for i in unrepeat_col:\n",
    "    new_data[i] = df_row_data[i].sum(axis = 1)"
   ]
  },
  {
   "cell_type": "code",
   "execution_count": 9,
   "metadata": {},
   "outputs": [],
   "source": [
    "path_new_data =path_new_data_1 + '1' +path_new_data_2 + '2' +path_new_data_3\n",
    "new_data.to_csv(path_new_data,index = False)"
   ]
  },
  {
   "cell_type": "code",
   "execution_count": 10,
   "metadata": {},
   "outputs": [
    {
     "name": "stdout",
     "output_type": "stream",
     "text": [
      "迭代结束！！\n"
     ]
    }
   ],
   "source": [
    "loop = True\n",
    "while loop:\n",
    "    try:\n",
    "        df_row_data = reader.get_chunk(chunksize)\n",
    "        df_row_label = df_row_data.label\n",
    "        df_row_data.drop('label', axis = 1, inplace = True)\n",
    "        df_row_data.columns = new_columns # 将新列赋值给原table\n",
    "        new_data = pd.DataFrame()\n",
    "        new_data['label'] = df_row_label\n",
    "        for i in unrepeat_col:\n",
    "            new_data[i] = df_row_data[i].sum(axis = 1)\n",
    "        path_new_data =path_new_data_1 + '1' +path_new_data_2 + '2' +path_new_data_3\n",
    "        new_data.to_csv(path_new_data,index = False,mode = 'a',header= None)\n",
    "    except StopIteration:\n",
    "        loop = False\n",
    "        print('迭代结束！！')\n",
    "        "
   ]
  },
  {
   "cell_type": "code",
   "execution_count": null,
   "metadata": {},
   "outputs": [],
   "source": []
  }
 ],
 "metadata": {
  "kernelspec": {
   "display_name": "Python 3",
   "language": "python",
   "name": "python3"
  },
  "language_info": {
   "codemirror_mode": {
    "name": "ipython",
    "version": 3
   },
   "file_extension": ".py",
   "mimetype": "text/x-python",
   "name": "python",
   "nbconvert_exporter": "python",
   "pygments_lexer": "ipython3",
   "version": "3.7.0"
  }
 },
 "nbformat": 4,
 "nbformat_minor": 2
}
